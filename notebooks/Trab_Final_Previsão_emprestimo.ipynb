{
  "cells": [
    {
      "cell_type": "markdown",
      "source": [
        "\n",
        "\n",
        "[Fonte 1](https://www.kaggle.com/tianyuantan/loan-status-prediction-90)\n",
        "\n"
      ],
      "metadata": {
        "id": "q2SuDsdUQ5Ed"
      },
      "id": "q2SuDsdUQ5Ed"
    },
    {
      "cell_type": "markdown",
      "source": [
        "# Introdução\n",
        "\n",
        "- A empresa procura automatizar (em tempo real) o processo de qualificação do crédito com base nas informações prestadas pelos clientes durante o preenchimento de um formulário de candidatura online. Espera-se com o desenvolvimento de modelos de ML que possam ajudar a empresa a prever a aprovação de empréstimos na aceleração do processo de tomada de decisão para determinar se um solicitante é elegível para um empréstimo ou não."
      ],
      "metadata": {
        "id": "tFQcO9krRjbt"
      },
      "id": "tFQcO9krRjbt"
    },
    {
      "cell_type": "markdown",
      "source": [
        "# Objetivo\n",
        "\n",
        "👉 Este caderno tem como objetivo:\n",
        "\n",
        "Analise os dados do cliente fornecidos no conjunto de dados (EDA)\n",
        "Construir vários modelos de ML que podem prever a aprovação de empréstimos\n",
        "👨‍💻 Os modelos de aprendizado de máquina usados neste projeto são:\n",
        "\n",
        "- Regressão Logística\n",
        "- K-vizinho mais próximo (KNN)\n",
        "- Máquina de vetor de suporte (SVM)\n",
        "- Baías ingénuas\n",
        "- Árvore de Decisão\n",
        "- Floresta Aleatória\n",
        "- Gradient Boost"
      ],
      "metadata": {
        "id": "AGtQfRryRoL1"
      },
      "id": "AGtQfRryRoL1"
    },
    {
      "cell_type": "markdown",
      "source": [
        "# Descrição do conjunto de dados 🧾¶\n",
        "👉 Existem 13 variáveis neste conjunto de dados:\n",
        "\n",
        "- 8 variáveis categóricas,\n",
        "- 4 variáveis contínuas, e\n",
        "- 1 variável para acomodar o ID do empréstimo."
      ],
      "metadata": {
        "id": "MApwoqrRSGpU"
      },
      "id": "MApwoqrRSGpU"
    },
    {
      "cell_type": "markdown",
      "source": [
        "# Importando bibliotecas e os dados"
      ],
      "metadata": {
        "id": "TYoWVISCTL58"
      },
      "id": "TYoWVISCTL58"
    },
    {
      "cell_type": "code",
      "execution_count": null,
      "id": "e3d77d3e",
      "metadata": {
        "id": "e3d77d3e"
      },
      "outputs": [],
      "source": [
        "#link: https://www.kaggle.com/caesarmario/86-eligibility-prediction-w-various-ml-models"
      ]
    },
    {
      "cell_type": "code",
      "execution_count": null,
      "id": "978229b5",
      "metadata": {
        "id": "978229b5"
      },
      "outputs": [],
      "source": [
        "import numpy as np\n",
        "import pandas as pd\n",
        "import seaborn as sns\n",
        "import matplotlib.pyplot as plt\n",
        "%matplotlib inline\n",
        "from sklearn.model_selection import train_test_split\n",
        "from sklearn.linear_model import LogisticRegression\n",
        "from sklearn.metrics import classification_report,confusion_matrix,f1_score\n",
        "from sklearn.preprocessing import LabelEncoder"
      ]
    },
    {
      "cell_type": "code",
      "execution_count": null,
      "id": "82bbd3f8",
      "metadata": {
        "id": "82bbd3f8"
      },
      "outputs": [],
      "source": [
        "df = pd.read_csv('train_loan.csv')"
      ]
    },
    {
      "cell_type": "code",
      "execution_count": null,
      "id": "a5e4c45e",
      "metadata": {
        "scrolled": true,
        "colab": {
          "base_uri": "https://localhost:8080/",
          "height": 244
        },
        "id": "a5e4c45e",
        "outputId": "83eb4164-4283-42ab-e07a-0057cd064f00"
      },
      "outputs": [
        {
          "output_type": "execute_result",
          "data": {
            "text/html": [
              "<div>\n",
              "<style scoped>\n",
              "    .dataframe tbody tr th:only-of-type {\n",
              "        vertical-align: middle;\n",
              "    }\n",
              "\n",
              "    .dataframe tbody tr th {\n",
              "        vertical-align: top;\n",
              "    }\n",
              "\n",
              "    .dataframe thead th {\n",
              "        text-align: right;\n",
              "    }\n",
              "</style>\n",
              "<table border=\"1\" class=\"dataframe\">\n",
              "  <thead>\n",
              "    <tr style=\"text-align: right;\">\n",
              "      <th></th>\n",
              "      <th>Loan_ID</th>\n",
              "      <th>Gender</th>\n",
              "      <th>Married</th>\n",
              "      <th>Dependents</th>\n",
              "      <th>Education</th>\n",
              "      <th>Self_Employed</th>\n",
              "      <th>ApplicantIncome</th>\n",
              "      <th>CoapplicantIncome</th>\n",
              "      <th>LoanAmount</th>\n",
              "      <th>Loan_Amount_Term</th>\n",
              "      <th>Credit_History</th>\n",
              "      <th>Property_Area</th>\n",
              "      <th>Loan_Status</th>\n",
              "    </tr>\n",
              "  </thead>\n",
              "  <tbody>\n",
              "    <tr>\n",
              "      <th>0</th>\n",
              "      <td>LP001002</td>\n",
              "      <td>Male</td>\n",
              "      <td>No</td>\n",
              "      <td>0</td>\n",
              "      <td>Graduate</td>\n",
              "      <td>No</td>\n",
              "      <td>5849</td>\n",
              "      <td>0.0</td>\n",
              "      <td>NaN</td>\n",
              "      <td>360.0</td>\n",
              "      <td>1.0</td>\n",
              "      <td>Urban</td>\n",
              "      <td>Y</td>\n",
              "    </tr>\n",
              "    <tr>\n",
              "      <th>1</th>\n",
              "      <td>LP001003</td>\n",
              "      <td>Male</td>\n",
              "      <td>Yes</td>\n",
              "      <td>1</td>\n",
              "      <td>Graduate</td>\n",
              "      <td>No</td>\n",
              "      <td>4583</td>\n",
              "      <td>1508.0</td>\n",
              "      <td>128.0</td>\n",
              "      <td>360.0</td>\n",
              "      <td>1.0</td>\n",
              "      <td>Rural</td>\n",
              "      <td>N</td>\n",
              "    </tr>\n",
              "    <tr>\n",
              "      <th>2</th>\n",
              "      <td>LP001005</td>\n",
              "      <td>Male</td>\n",
              "      <td>Yes</td>\n",
              "      <td>0</td>\n",
              "      <td>Graduate</td>\n",
              "      <td>Yes</td>\n",
              "      <td>3000</td>\n",
              "      <td>0.0</td>\n",
              "      <td>66.0</td>\n",
              "      <td>360.0</td>\n",
              "      <td>1.0</td>\n",
              "      <td>Urban</td>\n",
              "      <td>Y</td>\n",
              "    </tr>\n",
              "    <tr>\n",
              "      <th>3</th>\n",
              "      <td>LP001006</td>\n",
              "      <td>Male</td>\n",
              "      <td>Yes</td>\n",
              "      <td>0</td>\n",
              "      <td>Not Graduate</td>\n",
              "      <td>No</td>\n",
              "      <td>2583</td>\n",
              "      <td>2358.0</td>\n",
              "      <td>120.0</td>\n",
              "      <td>360.0</td>\n",
              "      <td>1.0</td>\n",
              "      <td>Urban</td>\n",
              "      <td>Y</td>\n",
              "    </tr>\n",
              "    <tr>\n",
              "      <th>4</th>\n",
              "      <td>LP001008</td>\n",
              "      <td>Male</td>\n",
              "      <td>No</td>\n",
              "      <td>0</td>\n",
              "      <td>Graduate</td>\n",
              "      <td>No</td>\n",
              "      <td>6000</td>\n",
              "      <td>0.0</td>\n",
              "      <td>141.0</td>\n",
              "      <td>360.0</td>\n",
              "      <td>1.0</td>\n",
              "      <td>Urban</td>\n",
              "      <td>Y</td>\n",
              "    </tr>\n",
              "  </tbody>\n",
              "</table>\n",
              "</div>"
            ],
            "text/plain": [
              "    Loan_ID Gender Married  ... Credit_History Property_Area Loan_Status\n",
              "0  LP001002   Male      No  ...            1.0         Urban           Y\n",
              "1  LP001003   Male     Yes  ...            1.0         Rural           N\n",
              "2  LP001005   Male     Yes  ...            1.0         Urban           Y\n",
              "3  LP001006   Male     Yes  ...            1.0         Urban           Y\n",
              "4  LP001008   Male      No  ...            1.0         Urban           Y\n",
              "\n",
              "[5 rows x 13 columns]"
            ]
          },
          "metadata": {},
          "execution_count": 281
        }
      ],
      "source": [
        "df.head()"
      ]
    },
    {
      "cell_type": "code",
      "source": [
        "df.info()"
      ],
      "metadata": {
        "colab": {
          "base_uri": "https://localhost:8080/"
        },
        "id": "hbPCVULRV6HJ",
        "outputId": "06305086-c437-4715-a7e5-9e983be387d5"
      },
      "id": "hbPCVULRV6HJ",
      "execution_count": null,
      "outputs": [
        {
          "output_type": "stream",
          "name": "stdout",
          "text": [
            "<class 'pandas.core.frame.DataFrame'>\n",
            "RangeIndex: 614 entries, 0 to 613\n",
            "Data columns (total 13 columns):\n",
            " #   Column             Non-Null Count  Dtype  \n",
            "---  ------             --------------  -----  \n",
            " 0   Loan_ID            614 non-null    object \n",
            " 1   Gender             601 non-null    object \n",
            " 2   Married            611 non-null    object \n",
            " 3   Dependents         599 non-null    object \n",
            " 4   Education          614 non-null    object \n",
            " 5   Self_Employed      582 non-null    object \n",
            " 6   ApplicantIncome    614 non-null    int64  \n",
            " 7   CoapplicantIncome  614 non-null    float64\n",
            " 8   LoanAmount         592 non-null    float64\n",
            " 9   Loan_Amount_Term   600 non-null    float64\n",
            " 10  Credit_History     564 non-null    float64\n",
            " 11  Property_Area      614 non-null    object \n",
            " 12  Loan_Status        614 non-null    object \n",
            "dtypes: float64(4), int64(1), object(8)\n",
            "memory usage: 62.5+ KB\n"
          ]
        }
      ]
    },
    {
      "cell_type": "code",
      "source": [
        "df.Loan_Status.value_counts()"
      ],
      "metadata": {
        "colab": {
          "base_uri": "https://localhost:8080/"
        },
        "id": "j1lA6FfpeyDp",
        "outputId": "34673a07-5e56-4763-e0cd-927092b1dca9"
      },
      "id": "j1lA6FfpeyDp",
      "execution_count": null,
      "outputs": [
        {
          "output_type": "execute_result",
          "data": {
            "text/plain": [
              "Y    422\n",
              "N    192\n",
              "Name: Loan_Status, dtype: int64"
            ]
          },
          "metadata": {},
          "execution_count": 283
        }
      ]
    },
    {
      "cell_type": "markdown",
      "source": [
        "# Explorando as variáveis categóricas"
      ],
      "metadata": {
        "id": "j9zOHidgS2Vs"
      },
      "id": "j9zOHidgS2Vs"
    },
    {
      "cell_type": "code",
      "execution_count": null,
      "id": "eba170ec",
      "metadata": {
        "colab": {
          "base_uri": "https://localhost:8080/"
        },
        "id": "eba170ec",
        "outputId": "645a04f5-4096-434b-ab47-6c78f3329ab4"
      },
      "outputs": [
        {
          "output_type": "execute_result",
          "data": {
            "text/plain": [
              "LP001945    1\n",
              "LP002784    1\n",
              "LP002625    1\n",
              "LP002366    1\n",
              "LP002837    1\n",
              "           ..\n",
              "LP002585    1\n",
              "LP002116    1\n",
              "LP002379    1\n",
              "LP001978    1\n",
              "LP001279    1\n",
              "Name: Loan_ID, Length: 614, dtype: int64"
            ]
          },
          "metadata": {},
          "execution_count": 284
        }
      ],
      "source": [
        "df.Loan_ID.value_counts(dropna=False)"
      ]
    },
    {
      "cell_type": "code",
      "execution_count": null,
      "id": "87ce98bd",
      "metadata": {
        "colab": {
          "base_uri": "https://localhost:8080/"
        },
        "id": "87ce98bd",
        "outputId": "b66d9be9-095b-42cb-bdbb-18619f5a901e"
      },
      "outputs": [
        {
          "output_type": "execute_result",
          "data": {
            "text/plain": [
              "Male      489\n",
              "Female    112\n",
              "NaN        13\n",
              "Name: Gender, dtype: int64"
            ]
          },
          "metadata": {},
          "execution_count": 285
        }
      ],
      "source": [
        "df.Gender.value_counts(dropna=False)"
      ]
    },
    {
      "cell_type": "code",
      "execution_count": null,
      "id": "700a1dc2",
      "metadata": {
        "colab": {
          "base_uri": "https://localhost:8080/"
        },
        "id": "700a1dc2",
        "outputId": "35c81bf0-2dbe-459d-a317-233682d3e19b"
      },
      "outputs": [
        {
          "output_type": "execute_result",
          "data": {
            "text/plain": [
              "Male      489\n",
              "Female    112\n",
              "Name: Gender, dtype: int64"
            ]
          },
          "metadata": {},
          "execution_count": 286
        }
      ],
      "source": [
        "df.Gender.value_counts()"
      ]
    },
    {
      "cell_type": "code",
      "execution_count": null,
      "id": "f7e86df1",
      "metadata": {
        "colab": {
          "base_uri": "https://localhost:8080/"
        },
        "id": "f7e86df1",
        "outputId": "a94be810-b964-499a-e4ec-05c29ac68bc6"
      },
      "outputs": [
        {
          "output_type": "display_data",
          "data": {
            "image/png": "[encoded data removed]",
            "text/plain": [
              "<Figure size 432x288 with 1 Axes>"
            ]
          },
          "metadata": {
            "needs_background": "light"
          }
        }
      ],
      "source": [
        "sns.countplot(x=\"Gender\", data=df, palette=\"hls\")\n",
        "plt.show()"
      ]
    },
    {
      "cell_type": "code",
      "execution_count": null,
      "id": "2b5be5cd",
      "metadata": {
        "colab": {
          "base_uri": "https://localhost:8080/"
        },
        "id": "2b5be5cd",
        "outputId": "2a661411-f151-4fb7-cc5c-1a6ae81bc812"
      },
      "outputs": [
        {
          "output_type": "stream",
          "name": "stdout",
          "text": [
            "Porcentagem de candidatos do sexo masculino: 79.64%\n",
            "Porcentagem de candidatos do sexo feminino: 18.24%\n",
            "Porcentagem de valores ausentes: 2.12%\n"
          ]
        }
      ],
      "source": [
        "countMale = len(df[df.Gender == 'Male'])\n",
        "countFemale = len(df[df.Gender == 'Female'])\n",
        "countNull = len(df[df.Gender.isnull()])\n",
        "\n",
        "print(\"Porcentagem de candidatos do sexo masculino: {:.2f}%\".format((countMale / (len(df.Gender))*100)))\n",
        "print(\"Porcentagem de candidatos do sexo feminino: {:.2f}%\".format((countFemale / (len(df.Gender))*100)))\n",
        "print(\"Porcentagem de valores ausentes: {:.2f}%\".format((countNull / (len(df.Gender))*100)))"
      ]
    },
    {
      "cell_type": "code",
      "execution_count": null,
      "id": "2a1d735b",
      "metadata": {
        "id": "2a1d735b"
      },
      "outputs": [],
      "source": [
        "# casado "
      ]
    },
    {
      "cell_type": "code",
      "execution_count": null,
      "id": "2b0f65e3",
      "metadata": {
        "colab": {
          "base_uri": "https://localhost:8080/"
        },
        "id": "2b0f65e3",
        "outputId": "01069e25-7f27-405a-c38c-8a643ae0abb5"
      },
      "outputs": [
        {
          "output_type": "execute_result",
          "data": {
            "text/plain": [
              "Yes    398\n",
              "No     213\n",
              "NaN      3\n",
              "Name: Married, dtype: int64"
            ]
          },
          "metadata": {},
          "execution_count": 290
        }
      ],
      "source": [
        "df.Married.value_counts(dropna=False)"
      ]
    },
    {
      "cell_type": "code",
      "execution_count": null,
      "id": "fce94b5e",
      "metadata": {
        "colab": {
          "base_uri": "https://localhost:8080/"
        },
        "id": "fce94b5e",
        "outputId": "d1f6a184-7a6c-4297-d069-b36171126a9f"
      },
      "outputs": [
        {
          "output_type": "execute_result",
          "data": {
            "text/plain": [
              "<matplotlib.axes._subplots.AxesSubplot at 0x7fcb1d376e10>"
            ]
          },
          "metadata": {},
          "execution_count": 291
        },
        {
          "output_type": "display_data",
          "data": {
            "image/png": "[encoded data removed]",
            "text/plain": [
              "<Figure size 432x288 with 1 Axes>"
            ]
          },
          "metadata": {
            "needs_background": "light"
          }
        }
      ],
      "source": [
        "sns.countplot(x='Married', data=df, palette = 'Paired')"
      ]
    },
    {
      "cell_type": "code",
      "execution_count": null,
      "id": "4811948a",
      "metadata": {
        "colab": {
          "base_uri": "https://localhost:8080/"
        },
        "id": "4811948a",
        "outputId": "cc82af2e-67ef-4748-f767-0e1d5f01ea6c"
      },
      "outputs": [
        {
          "output_type": "stream",
          "name": "stdout",
          "text": [
            "% de casados: 64.82%\n",
            "% de nao casados: 34.69%\n",
            "% de valores ausentes: 0.49%\n"
          ]
        }
      ],
      "source": [
        "countMarried = len(df[df.Married == 'Yes'])\n",
        "countNotMarried = len(df[df.Married == 'No'])\n",
        "countNull = len(df[df.Married.isnull()])\n",
        "\n",
        "print(\"% de casados: {:.2f}%\".format((countMarried / (len(df.Married))*100)))\n",
        "print(\"% de nao casados: {:.2f}%\".format((countNotMarried / (len(df.Married))*100)))\n",
        "print(\"% de valores ausentes: {:.2f}%\".format((countNull / (len(df.Married))*100)))"
      ]
    },
    {
      "cell_type": "code",
      "execution_count": null,
      "id": "054271e6",
      "metadata": {
        "colab": {
          "base_uri": "https://localhost:8080/"
        },
        "id": "054271e6",
        "outputId": "ba60f7f9-37d0-4c67-b638-7e93c41331b1"
      },
      "outputs": [
        {
          "output_type": "execute_result",
          "data": {
            "text/plain": [
              "Graduate        480\n",
              "Not Graduate    134\n",
              "Name: Education, dtype: int64"
            ]
          },
          "metadata": {},
          "execution_count": 293
        }
      ],
      "source": [
        "df.Education.value_counts(dropna=False)"
      ]
    },
    {
      "cell_type": "code",
      "execution_count": null,
      "id": "1863b871",
      "metadata": {
        "colab": {
          "base_uri": "https://localhost:8080/"
        },
        "id": "1863b871",
        "outputId": "e2da74ff-fa4f-4ee2-fb1c-a9faaf2696a3"
      },
      "outputs": [
        {
          "output_type": "display_data",
          "data": {
            "image/png": "[encoded data removed]",
            "text/plain": [
              "<Figure size 432x288 with 1 Axes>"
            ]
          },
          "metadata": {
            "needs_background": "light"
          }
        }
      ],
      "source": [
        "sns.countplot(x=\"Education\", data=df, palette=\"rocket\")\n",
        "plt.show()"
      ]
    },
    {
      "cell_type": "code",
      "execution_count": null,
      "id": "b1405145",
      "metadata": {
        "colab": {
          "base_uri": "https://localhost:8080/"
        },
        "id": "b1405145",
        "outputId": "d3e61183-1e58-4311-8158-9ba868bb7271"
      },
      "outputs": [
        {
          "output_type": "stream",
          "name": "stdout",
          "text": [
            "% de graduados: 78.18%\n",
            "% nao graduados: 21.82%\n",
            "% valores faltantes: 0.00%\n"
          ]
        }
      ],
      "source": [
        "countGraduate = len(df[df.Education == 'Graduate'])\n",
        "countNotGraduate = len(df[df.Education == 'Not Graduate'])\n",
        "countNull = len(df[df.Education.isnull()])\n",
        "\n",
        "print(\"% de graduados: {:.2f}%\".format((countGraduate / (len(df.Education))*100)))\n",
        "print(\"% nao graduados: {:.2f}%\".format((countNotGraduate / (len(df.Education))*100)))\n",
        "print(\"% valores faltantes: {:.2f}%\".format((countNull / (len(df.Education))*100)))"
      ]
    },
    {
      "cell_type": "code",
      "execution_count": null,
      "id": "bb9b88e8",
      "metadata": {
        "colab": {
          "base_uri": "https://localhost:8080/"
        },
        "id": "bb9b88e8",
        "outputId": "e9628491-95fd-43c0-f220-a62dac4138df"
      },
      "outputs": [
        {
          "output_type": "execute_result",
          "data": {
            "text/plain": [
              "No     500\n",
              "Yes     82\n",
              "NaN     32\n",
              "Name: Self_Employed, dtype: int64"
            ]
          },
          "metadata": {},
          "execution_count": 296
        }
      ],
      "source": [
        "df.Self_Employed.value_counts(dropna=False)"
      ]
    },
    {
      "cell_type": "code",
      "execution_count": null,
      "id": "3607189a",
      "metadata": {
        "colab": {
          "base_uri": "https://localhost:8080/"
        },
        "id": "3607189a",
        "outputId": "1bbaf6aa-a79f-4881-ea0a-e7480ecd5a1c"
      },
      "outputs": [
        {
          "output_type": "display_data",
          "data": {
            "image/png": "[encoded data removed]",
            "text/plain": [
              "<Figure size 432x288 with 1 Axes>"
            ]
          },
          "metadata": {
            "needs_background": "light"
          }
        }
      ],
      "source": [
        "sns.countplot(x=\"Self_Employed\", data=df, palette=\"crest\")\n",
        "plt.show()"
      ]
    },
    {
      "cell_type": "code",
      "execution_count": null,
      "id": "c717eb6e",
      "metadata": {
        "colab": {
          "base_uri": "https://localhost:8080/"
        },
        "id": "c717eb6e",
        "outputId": "ccee15d6-bb0f-42f0-8336-691b6268ec0a"
      },
      "outputs": [
        {
          "output_type": "stream",
          "name": "stdout",
          "text": [
            "% trabalhadores por conta própria: 81.43%\n",
            "% autônomos: 13.36%\n",
            "% valores faltantes: 5.21%\n"
          ]
        }
      ],
      "source": [
        "countNo = len(df[df.Self_Employed == 'No'])\n",
        "countYes = len(df[df.Self_Employed == 'Yes'])\n",
        "countNull = len(df[df.Self_Employed.isnull()])\n",
        "\n",
        "print(\"% trabalhadores por conta própria: {:.2f}%\".format((countNo / (len(df.Self_Employed))*100)))\n",
        "print(\"% autônomos: {:.2f}%\".format((countYes / (len(df.Self_Employed))*100)))\n",
        "print(\"% valores faltantes: {:.2f}%\".format((countNull / (len(df.Self_Employed))*100)))"
      ]
    },
    {
      "cell_type": "markdown",
      "source": [
        "# Explorando as variáveis númericas"
      ],
      "metadata": {
        "id": "vzj4b7TAS_KM"
      },
      "id": "vzj4b7TAS_KM"
    },
    {
      "cell_type": "code",
      "execution_count": null,
      "id": "2a4eacac",
      "metadata": {
        "colab": {
          "base_uri": "https://localhost:8080/"
        },
        "id": "2a4eacac",
        "outputId": "c809e057-b1ca-4aaa-cdb4-a0b28cfe7221"
      },
      "outputs": [
        {
          "output_type": "execute_result",
          "data": {
            "text/html": [
              "<div>\n",
              "<style scoped>\n",
              "    .dataframe tbody tr th:only-of-type {\n",
              "        vertical-align: middle;\n",
              "    }\n",
              "\n",
              "    .dataframe tbody tr th {\n",
              "        vertical-align: top;\n",
              "    }\n",
              "\n",
              "    .dataframe thead th {\n",
              "        text-align: right;\n",
              "    }\n",
              "</style>\n",
              "<table border=\"1\" class=\"dataframe\">\n",
              "  <thead>\n",
              "    <tr style=\"text-align: right;\">\n",
              "      <th></th>\n",
              "      <th>ApplicantIncome</th>\n",
              "      <th>CoapplicantIncome</th>\n",
              "      <th>LoanAmount</th>\n",
              "    </tr>\n",
              "  </thead>\n",
              "  <tbody>\n",
              "    <tr>\n",
              "      <th>count</th>\n",
              "      <td>614.000000</td>\n",
              "      <td>614.000000</td>\n",
              "      <td>592.000000</td>\n",
              "    </tr>\n",
              "    <tr>\n",
              "      <th>mean</th>\n",
              "      <td>5403.459283</td>\n",
              "      <td>1621.245798</td>\n",
              "      <td>146.412162</td>\n",
              "    </tr>\n",
              "    <tr>\n",
              "      <th>std</th>\n",
              "      <td>6109.041673</td>\n",
              "      <td>2926.248369</td>\n",
              "      <td>85.587325</td>\n",
              "    </tr>\n",
              "    <tr>\n",
              "      <th>min</th>\n",
              "      <td>150.000000</td>\n",
              "      <td>0.000000</td>\n",
              "      <td>9.000000</td>\n",
              "    </tr>\n",
              "    <tr>\n",
              "      <th>25%</th>\n",
              "      <td>2877.500000</td>\n",
              "      <td>0.000000</td>\n",
              "      <td>100.000000</td>\n",
              "    </tr>\n",
              "    <tr>\n",
              "      <th>50%</th>\n",
              "      <td>3812.500000</td>\n",
              "      <td>1188.500000</td>\n",
              "      <td>128.000000</td>\n",
              "    </tr>\n",
              "    <tr>\n",
              "      <th>75%</th>\n",
              "      <td>5795.000000</td>\n",
              "      <td>2297.250000</td>\n",
              "      <td>168.000000</td>\n",
              "    </tr>\n",
              "    <tr>\n",
              "      <th>max</th>\n",
              "      <td>81000.000000</td>\n",
              "      <td>41667.000000</td>\n",
              "      <td>700.000000</td>\n",
              "    </tr>\n",
              "  </tbody>\n",
              "</table>\n",
              "</div>"
            ],
            "text/plain": [
              "       ApplicantIncome  CoapplicantIncome  LoanAmount\n",
              "count       614.000000         614.000000  592.000000\n",
              "mean       5403.459283        1621.245798  146.412162\n",
              "std        6109.041673        2926.248369   85.587325\n",
              "min         150.000000           0.000000    9.000000\n",
              "25%        2877.500000           0.000000  100.000000\n",
              "50%        3812.500000        1188.500000  128.000000\n",
              "75%        5795.000000        2297.250000  168.000000\n",
              "max       81000.000000       41667.000000  700.000000"
            ]
          },
          "metadata": {},
          "execution_count": 299
        }
      ],
      "source": [
        "df[['ApplicantIncome','CoapplicantIncome','LoanAmount']].describe()"
      ]
    },
    {
      "cell_type": "code",
      "execution_count": null,
      "id": "a9337157",
      "metadata": {
        "colab": {
          "base_uri": "https://localhost:8080/"
        },
        "id": "a9337157",
        "outputId": "64900991-a03e-4eee-c939-70c525c2c0bb"
      },
      "outputs": [
        {
          "output_type": "execute_result",
          "data": {
            "text/plain": [
              "<matplotlib.axes._subplots.AxesSubplot at 0x7fcb1efe10d0>"
            ]
          },
          "metadata": {},
          "execution_count": 300
        },
        {
          "output_type": "display_data",
          "data": {
            "image/png": "[encoded data removed]",
            "text/plain": [
              "<Figure size 720x576 with 4 Axes>"
            ]
          },
          "metadata": {}
        }
      ],
      "source": [
        "sns.set(style=\"darkgrid\")\n",
        "fig, axs = plt.subplots(2, 2, figsize=(10, 8))\n",
        "\n",
        "sns.histplot(data=df, x=\"ApplicantIncome\", kde=True, ax=axs[0, 0], color='green')\n",
        "sns.histplot(data=df, x=\"CoapplicantIncome\", kde=True, ax=axs[0, 1], color='skyblue')\n",
        "sns.histplot(data=df, x=\"LoanAmount\", kde=True, ax=axs[1, 0], color='orange')"
      ]
    },
    {
      "cell_type": "code",
      "execution_count": null,
      "id": "db6bb401",
      "metadata": {
        "colab": {
          "base_uri": "https://localhost:8080/"
        },
        "id": "db6bb401",
        "outputId": "510db329-fcdc-4f17-e8b7-08a5cb01a8e8"
      },
      "outputs": [
        {
          "output_type": "execute_result",
          "data": {
            "text/plain": [
              "<matplotlib.axes._subplots.AxesSubplot at 0x7fcb1cfcf150>"
            ]
          },
          "metadata": {},
          "execution_count": 301
        },
        {
          "output_type": "display_data",
          "data": {
            "image/png": "[encoded data removed]",
            "text/plain": [
              "<Figure size 720x504 with 2 Axes>"
            ]
          },
          "metadata": {}
        }
      ],
      "source": [
        "plt.figure(figsize=(10,7))\n",
        "sns.heatmap(df.corr(), annot=True, cmap='inferno') "
      ]
    },
    {
      "cell_type": "code",
      "execution_count": null,
      "id": "4f47cc26",
      "metadata": {
        "colab": {
          "base_uri": "https://localhost:8080/"
        },
        "id": "4f47cc26",
        "outputId": "cecda2f6-0e19-423b-9c3b-8f9263ab4944"
      },
      "outputs": [
        {
          "output_type": "display_data",
          "data": {
            "image/png": "[encoded data removed]",
            "text/plain": [
              "<Figure size 360x360 with 1 Axes>"
            ]
          },
          "metadata": {}
        }
      ],
      "source": [
        "pd.crosstab(df.Gender,df.Married).plot(kind=\"bar\", stacked=True, figsize=(5,5), color=['#f64f59','#12c2e9'])\n",
        "plt.title('Gender vs Married')\n",
        "plt.xlabel('Gender')\n",
        "plt.ylabel('Frequency')\n",
        "plt.xticks(rotation=0)\n",
        "plt.show()"
      ]
    },
    {
      "cell_type": "code",
      "execution_count": null,
      "id": "953c1e70",
      "metadata": {
        "colab": {
          "base_uri": "https://localhost:8080/"
        },
        "id": "953c1e70",
        "outputId": "9b9cb8d3-0146-4f0a-ed49-cdf072c573a3"
      },
      "outputs": [
        {
          "output_type": "display_data",
          "data": {
            "image/png": "[encoded data removed]",
            "text/plain": [
              "<Figure size 360x360 with 1 Axes>"
            ]
          },
          "metadata": {}
        }
      ],
      "source": [
        "pd.crosstab(df.Self_Employed,df.Credit_History).plot(kind=\"bar\", stacked=True, figsize=(5,5), color=['#544a7d','#ffd452'])\n",
        "plt.title('Self Employed vs Credit History')\n",
        "plt.xlabel('Self Employed')\n",
        "plt.ylabel('Frequency')\n",
        "plt.legend([\"Bad Credit\", \"Good Credit\"])\n",
        "plt.xticks(rotation=0)\n",
        "plt.show()"
      ]
    },
    {
      "cell_type": "code",
      "execution_count": null,
      "id": "9400a8fa",
      "metadata": {
        "scrolled": true,
        "colab": {
          "base_uri": "https://localhost:8080/"
        },
        "id": "9400a8fa",
        "outputId": "9b54adff-1eeb-470b-cd36-f954cc2daa5a"
      },
      "outputs": [
        {
          "output_type": "execute_result",
          "data": {
            "text/plain": [
              "array([[<matplotlib.axes._subplots.AxesSubplot object at 0x7fcb1ce48dd0>,\n",
              "        <matplotlib.axes._subplots.AxesSubplot object at 0x7fcb1cdee450>,\n",
              "        <matplotlib.axes._subplots.AxesSubplot object at 0x7fcb1cda1890>,\n",
              "        <matplotlib.axes._subplots.AxesSubplot object at 0x7fcb1cd55d90>,\n",
              "        <matplotlib.axes._subplots.AxesSubplot object at 0x7fcb1cd182d0>],\n",
              "       [<matplotlib.axes._subplots.AxesSubplot object at 0x7fcb1cccc7d0>,\n",
              "        <matplotlib.axes._subplots.AxesSubplot object at 0x7fcb1cc84d50>,\n",
              "        <matplotlib.axes._subplots.AxesSubplot object at 0x7fcb1cc481d0>,\n",
              "        <matplotlib.axes._subplots.AxesSubplot object at 0x7fcb1cc48210>,\n",
              "        <matplotlib.axes._subplots.AxesSubplot object at 0x7fcb1cbfc810>],\n",
              "       [<matplotlib.axes._subplots.AxesSubplot object at 0x7fcb1cbf5150>,\n",
              "        <matplotlib.axes._subplots.AxesSubplot object at 0x7fcb1cba9650>,\n",
              "        <matplotlib.axes._subplots.AxesSubplot object at 0x7fcb1cb60b50>,\n",
              "        <matplotlib.axes._subplots.AxesSubplot object at 0x7fcb1cb0eb90>,\n",
              "        <matplotlib.axes._subplots.AxesSubplot object at 0x7fcb1cad8590>],\n",
              "       [<matplotlib.axes._subplots.AxesSubplot object at 0x7fcb1ca90a90>,\n",
              "        <matplotlib.axes._subplots.AxesSubplot object at 0x7fcb1ca44f90>,\n",
              "        <matplotlib.axes._subplots.AxesSubplot object at 0x7fcb1ca074d0>,\n",
              "        <matplotlib.axes._subplots.AxesSubplot object at 0x7fcb1c9bc9d0>,\n",
              "        <matplotlib.axes._subplots.AxesSubplot object at 0x7fcb1c9f2ed0>],\n",
              "       [<matplotlib.axes._subplots.AxesSubplot object at 0x7fcb1c9b5410>,\n",
              "        <matplotlib.axes._subplots.AxesSubplot object at 0x7fcb1c96b910>,\n",
              "        <matplotlib.axes._subplots.AxesSubplot object at 0x7fcb1c91fe10>,\n",
              "        <matplotlib.axes._subplots.AxesSubplot object at 0x7fcb1c8e3350>,\n",
              "        <matplotlib.axes._subplots.AxesSubplot object at 0x7fcb1c897850>]],\n",
              "      dtype=object)"
            ]
          },
          "metadata": {},
          "execution_count": 304
        },
        {
          "output_type": "display_data",
          "data": {
            "image/png": "[encoded data removed]",
            "text/plain": [
              "<Figure size 864x576 with 25 Axes>"
            ]
          },
          "metadata": {}
        }
      ],
      "source": [
        "from pandas.plotting import scatter_matrix\n",
        "attributes = [\"ApplicantIncome\", \"CoapplicantIncome\", \"LoanAmount\", \"Loan_Amount_Term\", \"Credit_History\", \"Loan_Status\"]\n",
        "scatter_matrix(df, figsize=(12, 8))"
      ]
    },
    {
      "cell_type": "markdown",
      "source": [
        "# 5. Pré-processamento de dados"
      ],
      "metadata": {
        "id": "6VFv9T1MK39_"
      },
      "id": "6VFv9T1MK39_"
    },
    {
      "cell_type": "markdown",
      "source": [
        "#### 5.1 Eliminar variáveis desnecessárias"
      ],
      "metadata": {
        "id": "5DE13bCBK_wd"
      },
      "id": "5DE13bCBK_wd"
    },
    {
      "cell_type": "code",
      "source": [
        "df = df.drop(['Loan_ID','CoapplicantIncome','Loan_Amount_Term','Credit_History','Property_Area'], axis = 1)"
      ],
      "metadata": {
        "id": "ggAwxwRFK_SV"
      },
      "id": "ggAwxwRFK_SV",
      "execution_count": null,
      "outputs": []
    },
    {
      "cell_type": "markdown",
      "source": [
        "#### 5.2 Tratando valores nulos (Missing Values)\n",
        "\n",
        "* Dependents: Assumindo o valor majoritário da coluna.\n",
        "\n",
        "* Self_Employed: Assumindo o valor majoritário da coluna.\n",
        "\n",
        "* Loan_Amount_Term: Preenchendo com valor médio da coluna.\n",
        "\n",
        "* Credit_History: assumindo o valor marjoritário da coluna.\n",
        "\n",
        "* Married: Assumindo o valor majoritário da coluna.\n",
        "\n",
        "* Gender: Assumindo o valor majoritário da coluna."
      ],
      "metadata": {
        "id": "OYe7S4DcLOjV"
      },
      "id": "OYe7S4DcLOjV"
    },
    {
      "cell_type": "code",
      "source": [
        "df.isnull().sum()"
      ],
      "metadata": {
        "colab": {
          "base_uri": "https://localhost:8080/"
        },
        "id": "1dhZzWjmhxeR",
        "outputId": "a6df3769-f072-4a14-ec86-732e451300c1"
      },
      "id": "1dhZzWjmhxeR",
      "execution_count": null,
      "outputs": [
        {
          "output_type": "execute_result",
          "data": {
            "text/plain": [
              "Gender             13\n",
              "Married             3\n",
              "Dependents         15\n",
              "Education           0\n",
              "Self_Employed      32\n",
              "ApplicantIncome     0\n",
              "LoanAmount         22\n",
              "Loan_Status         0\n",
              "dtype: int64"
            ]
          },
          "metadata": {},
          "execution_count": 306
        }
      ]
    },
    {
      "cell_type": "code",
      "source": [
        "# Categóricas\n",
        "df['Gender'].fillna(df['Gender'].mode()[0],inplace=True)\n",
        "df['Married'].fillna(df['Married'].mode()[0],inplace=True)\n",
        "df['Dependents'].fillna(df['Dependents'].mode()[0],inplace=True)\n",
        "df['Self_Employed'].fillna(df['Self_Employed'].mode()[0],inplace=True)\n",
        "#df['Credit_History'].fillna(df['Credit_History'].mode()[0],inplace=True)\n",
        "#df['Loan_Amount_Term'].fillna(df['Loan_Amount_Term'].mode()[0],inplace=True)"
      ],
      "metadata": {
        "id": "bBeHr92DLQnN"
      },
      "id": "bBeHr92DLQnN",
      "execution_count": null,
      "outputs": []
    },
    {
      "cell_type": "code",
      "source": [
        "#numérica\n",
        "df['LoanAmount'].fillna(df['LoanAmount'].mean(),inplace=True)"
      ],
      "metadata": {
        "id": "DS2BPjckLkIM"
      },
      "id": "DS2BPjckLkIM",
      "execution_count": null,
      "outputs": []
    },
    {
      "cell_type": "code",
      "source": [
        "df.isnull().sum()"
      ],
      "metadata": {
        "colab": {
          "base_uri": "https://localhost:8080/"
        },
        "id": "mLIOjubdhuP5",
        "outputId": "06421348-0252-4c77-f2cb-576fac1cd1cf"
      },
      "id": "mLIOjubdhuP5",
      "execution_count": null,
      "outputs": [
        {
          "output_type": "execute_result",
          "data": {
            "text/plain": [
              "Gender             0\n",
              "Married            0\n",
              "Dependents         0\n",
              "Education          0\n",
              "Self_Employed      0\n",
              "ApplicantIncome    0\n",
              "LoanAmount         0\n",
              "Loan_Status        0\n",
              "dtype: int64"
            ]
          },
          "metadata": {},
          "execution_count": 309
        }
      ]
    },
    {
      "cell_type": "markdown",
      "source": [
        "#### 5.3 One-hot (codificação)\n",
        "- Nesta seção, transformarei variáveis categóricas em uma forma que poderia ser fornecida por algoritmos de ML para fazer uma previsão melhor"
      ],
      "metadata": {
        "id": "8-gwI4ozLwxV"
      },
      "id": "8-gwI4ozLwxV"
    },
    {
      "cell_type": "code",
      "source": [
        "df.info()"
      ],
      "metadata": {
        "colab": {
          "base_uri": "https://localhost:8080/"
        },
        "id": "vRymY9zxilzo",
        "outputId": "0bb63fb6-5830-4575-fe7a-09618556ddb8"
      },
      "id": "vRymY9zxilzo",
      "execution_count": null,
      "outputs": [
        {
          "output_type": "stream",
          "name": "stdout",
          "text": [
            "<class 'pandas.core.frame.DataFrame'>\n",
            "RangeIndex: 614 entries, 0 to 613\n",
            "Data columns (total 8 columns):\n",
            " #   Column           Non-Null Count  Dtype  \n",
            "---  ------           --------------  -----  \n",
            " 0   Gender           614 non-null    object \n",
            " 1   Married          614 non-null    object \n",
            " 2   Dependents       614 non-null    object \n",
            " 3   Education        614 non-null    object \n",
            " 4   Self_Employed    614 non-null    object \n",
            " 5   ApplicantIncome  614 non-null    int64  \n",
            " 6   LoanAmount       614 non-null    float64\n",
            " 7   Loan_Status      614 non-null    object \n",
            "dtypes: float64(1), int64(1), object(6)\n",
            "memory usage: 38.5+ KB\n"
          ]
        }
      ]
    },
    {
      "cell_type": "code",
      "source": [
        "df.head(3)"
      ],
      "metadata": {
        "colab": {
          "base_uri": "https://localhost:8080/",
          "height": 144
        },
        "id": "4OvbtcLbo9Vw",
        "outputId": "2a3782e8-860c-45f1-82a3-e124235a6965"
      },
      "id": "4OvbtcLbo9Vw",
      "execution_count": null,
      "outputs": [
        {
          "output_type": "execute_result",
          "data": {
            "text/html": [
              "<div>\n",
              "<style scoped>\n",
              "    .dataframe tbody tr th:only-of-type {\n",
              "        vertical-align: middle;\n",
              "    }\n",
              "\n",
              "    .dataframe tbody tr th {\n",
              "        vertical-align: top;\n",
              "    }\n",
              "\n",
              "    .dataframe thead th {\n",
              "        text-align: right;\n",
              "    }\n",
              "</style>\n",
              "<table border=\"1\" class=\"dataframe\">\n",
              "  <thead>\n",
              "    <tr style=\"text-align: right;\">\n",
              "      <th></th>\n",
              "      <th>Gender</th>\n",
              "      <th>Married</th>\n",
              "      <th>Dependents</th>\n",
              "      <th>Education</th>\n",
              "      <th>Self_Employed</th>\n",
              "      <th>ApplicantIncome</th>\n",
              "      <th>LoanAmount</th>\n",
              "      <th>Loan_Status</th>\n",
              "    </tr>\n",
              "  </thead>\n",
              "  <tbody>\n",
              "    <tr>\n",
              "      <th>0</th>\n",
              "      <td>Male</td>\n",
              "      <td>No</td>\n",
              "      <td>0</td>\n",
              "      <td>Graduate</td>\n",
              "      <td>No</td>\n",
              "      <td>5849</td>\n",
              "      <td>146.412162</td>\n",
              "      <td>Y</td>\n",
              "    </tr>\n",
              "    <tr>\n",
              "      <th>1</th>\n",
              "      <td>Male</td>\n",
              "      <td>Yes</td>\n",
              "      <td>1</td>\n",
              "      <td>Graduate</td>\n",
              "      <td>No</td>\n",
              "      <td>4583</td>\n",
              "      <td>128.000000</td>\n",
              "      <td>N</td>\n",
              "    </tr>\n",
              "    <tr>\n",
              "      <th>2</th>\n",
              "      <td>Male</td>\n",
              "      <td>Yes</td>\n",
              "      <td>0</td>\n",
              "      <td>Graduate</td>\n",
              "      <td>Yes</td>\n",
              "      <td>3000</td>\n",
              "      <td>66.000000</td>\n",
              "      <td>Y</td>\n",
              "    </tr>\n",
              "  </tbody>\n",
              "</table>\n",
              "</div>"
            ],
            "text/plain": [
              "  Gender Married Dependents  ... ApplicantIncome  LoanAmount  Loan_Status\n",
              "0   Male      No          0  ...            5849  146.412162            Y\n",
              "1   Male     Yes          1  ...            4583  128.000000            N\n",
              "2   Male     Yes          0  ...            3000   66.000000            Y\n",
              "\n",
              "[3 rows x 8 columns]"
            ]
          },
          "metadata": {},
          "execution_count": 311
        }
      ]
    },
    {
      "cell_type": "code",
      "source": [
        "gender_values = {'Female': 0, 'Male':1}\n",
        "married_values = {'No': 0, 'Yes': 1}\n",
        "education_values = {'Graduate': 0, 'Not Graduate': 1}\n",
        "employed_values = {'No': 0, 'Yes': 1}\n",
        "dependent_values = {'3+': 3, '0':0, '2':2, '1':1}\n",
        "loan_values = {'Y': 1, 'N':0}\n",
        "df.replace({'Gender': gender_values, \n",
        "                'Married': married_values,\n",
        "                'Education': education_values,\n",
        "                'Self_Employed': employed_values,\n",
        "                'Dependents': dependent_values,\n",
        "                'Loan_Status': loan_values }, inplace=True)"
      ],
      "metadata": {
        "id": "pLC3HEGPojJ4"
      },
      "id": "pLC3HEGPojJ4",
      "execution_count": null,
      "outputs": []
    },
    {
      "cell_type": "code",
      "source": [
        "df.head(3)"
      ],
      "metadata": {
        "colab": {
          "base_uri": "https://localhost:8080/",
          "height": 144
        },
        "id": "XPkZe046ybrx",
        "outputId": "90668712-8a5f-4f73-b1eb-035227203854"
      },
      "id": "XPkZe046ybrx",
      "execution_count": null,
      "outputs": [
        {
          "output_type": "execute_result",
          "data": {
            "text/html": [
              "<div>\n",
              "<style scoped>\n",
              "    .dataframe tbody tr th:only-of-type {\n",
              "        vertical-align: middle;\n",
              "    }\n",
              "\n",
              "    .dataframe tbody tr th {\n",
              "        vertical-align: top;\n",
              "    }\n",
              "\n",
              "    .dataframe thead th {\n",
              "        text-align: right;\n",
              "    }\n",
              "</style>\n",
              "<table border=\"1\" class=\"dataframe\">\n",
              "  <thead>\n",
              "    <tr style=\"text-align: right;\">\n",
              "      <th></th>\n",
              "      <th>Gender</th>\n",
              "      <th>Married</th>\n",
              "      <th>Dependents</th>\n",
              "      <th>Education</th>\n",
              "      <th>Self_Employed</th>\n",
              "      <th>ApplicantIncome</th>\n",
              "      <th>LoanAmount</th>\n",
              "      <th>Loan_Status</th>\n",
              "    </tr>\n",
              "  </thead>\n",
              "  <tbody>\n",
              "    <tr>\n",
              "      <th>0</th>\n",
              "      <td>1</td>\n",
              "      <td>0</td>\n",
              "      <td>0</td>\n",
              "      <td>0</td>\n",
              "      <td>0</td>\n",
              "      <td>5849</td>\n",
              "      <td>146.412162</td>\n",
              "      <td>1</td>\n",
              "    </tr>\n",
              "    <tr>\n",
              "      <th>1</th>\n",
              "      <td>1</td>\n",
              "      <td>1</td>\n",
              "      <td>1</td>\n",
              "      <td>0</td>\n",
              "      <td>0</td>\n",
              "      <td>4583</td>\n",
              "      <td>128.000000</td>\n",
              "      <td>0</td>\n",
              "    </tr>\n",
              "    <tr>\n",
              "      <th>2</th>\n",
              "      <td>1</td>\n",
              "      <td>1</td>\n",
              "      <td>0</td>\n",
              "      <td>0</td>\n",
              "      <td>1</td>\n",
              "      <td>3000</td>\n",
              "      <td>66.000000</td>\n",
              "      <td>1</td>\n",
              "    </tr>\n",
              "  </tbody>\n",
              "</table>\n",
              "</div>"
            ],
            "text/plain": [
              "   Gender  Married  Dependents  ...  ApplicantIncome  LoanAmount  Loan_Status\n",
              "0       1        0           0  ...             5849  146.412162            1\n",
              "1       1        1           1  ...             4583  128.000000            0\n",
              "2       1        1           0  ...             3000   66.000000            1\n",
              "\n",
              "[3 rows x 8 columns]"
            ]
          },
          "metadata": {},
          "execution_count": 313
        }
      ]
    },
    {
      "cell_type": "code",
      "source": [
        "df.Dependents.value_counts()"
      ],
      "metadata": {
        "colab": {
          "base_uri": "https://localhost:8080/"
        },
        "id": "C5dI2qLJy0cA",
        "outputId": "e5203031-0945-4ab1-de0e-17c1f88c0b8b"
      },
      "id": "C5dI2qLJy0cA",
      "execution_count": null,
      "outputs": [
        {
          "output_type": "execute_result",
          "data": {
            "text/plain": [
              "0    360\n",
              "1    102\n",
              "2    101\n",
              "3     51\n",
              "Name: Dependents, dtype: int64"
            ]
          },
          "metadata": {},
          "execution_count": 314
        }
      ]
    },
    {
      "cell_type": "code",
      "source": [
        "#df = pd.get_dummies(df)\n",
        "\n",
        "# Drop columns\n",
        "#df = df.drop(['Gender_Female', 'Married_No', 'Education_Not Graduate', \n",
        "##              'Self_Employed_No', 'Loan_Status_N'], axis = 1)\n",
        "\n",
        "# Renomear o nome das colunas\n",
        "#new = {'Gender_Male': 'Gender', 'Married_Yes': 'Married', \n",
        "#       'Education_Graduate': 'Education', 'Self_Employed_Yes': 'Self_Employed',\n",
        "#       'Loan_Status_Y': 'Loan_Status'}\n",
        "       \n",
        "#df.rename(columns=new, inplace=True)"
      ],
      "metadata": {
        "id": "oifyBGmHL_pc"
      },
      "id": "oifyBGmHL_pc",
      "execution_count": null,
      "outputs": []
    },
    {
      "cell_type": "markdown",
      "source": [
        "* Remover Outliers & valores infinitos"
      ],
      "metadata": {
        "id": "AorxjRRoMcK0"
      },
      "id": "AorxjRRoMcK0"
    },
    {
      "cell_type": "code",
      "source": [
        "#Q1 = df.quantile(0.25)\n",
        "#Q3 = df.quantile(0.75)\n",
        "#IQR = Q3 - Q1\n",
        "\n",
        "#df = df[~((df < (Q1 - 1.5 * IQR)) |(df > (Q3 + 1.5 * IQR))).any(axis=1)]"
      ],
      "metadata": {
        "id": "F8-d4B8LMgW2"
      },
      "id": "F8-d4B8LMgW2",
      "execution_count": null,
      "outputs": []
    },
    {
      "cell_type": "markdown",
      "source": [
        "#### 5.5 Criando X e Y\n",
        "\n",
        "Os recursos dependentes (status do empréstimo) serão separados dos recursos independentes."
      ],
      "metadata": {
        "id": "TkIxqf7fMyTS"
      },
      "id": "TkIxqf7fMyTS"
    },
    {
      "cell_type": "code",
      "source": [
        "X = df.drop([\"Loan_Status\"], axis=1)\n",
        "y = df[\"Loan_Status\"]"
      ],
      "metadata": {
        "id": "lBnYJysFM_MM"
      },
      "id": "lBnYJysFM_MM",
      "execution_count": null,
      "outputs": []
    },
    {
      "cell_type": "markdown",
      "source": [
        "#### 5.6 Técnica SMOTE\n",
        " - Na exploração anterior, pode-se ver que o número entre empréstimos aprovados e rejeitados está desequilibrado. Nesta seção, a técnica de sobreamostragem será usada para evitar sobreajuste"
      ],
      "metadata": {
        "id": "HZP0wDBHNEbu"
      },
      "id": "HZP0wDBHNEbu"
    },
    {
      "cell_type": "code",
      "source": [
        "import missingno as mso\n",
        "import seaborn as sns\n",
        "import warnings\n",
        "import os\n",
        "import scipy\n",
        "\n",
        "from scipy import stats\n",
        "from scipy.stats import pearsonr\n",
        "from scipy.stats import ttest_ind\n",
        "from sklearn.metrics import classification_report\n",
        "from sklearn.metrics import confusion_matrix\n",
        "from sklearn.preprocessing import MinMaxScaler\n",
        "from sklearn.model_selection import train_test_split\n",
        "from imblearn.over_sampling import SMOTE\n",
        "\n",
        "from sklearn.linear_model import LogisticRegression\n",
        "from sklearn.neighbors import KNeighborsClassifier\n",
        "from sklearn.svm import SVC\n",
        "from sklearn.naive_bayes import CategoricalNB\n",
        "from sklearn.naive_bayes import GaussianNB\n",
        "from sklearn.tree import DecisionTreeClassifier\n",
        "from sklearn.ensemble import RandomForestClassifier\n",
        "from sklearn.ensemble import GradientBoostingClassifier\n",
        "from xgboost import XGBClassifier\n",
        "from sklearn.model_selection import GridSearchCV, RandomizedSearchCV"
      ],
      "metadata": {
        "id": "drpEMnIANbs8"
      },
      "id": "drpEMnIANbs8",
      "execution_count": null,
      "outputs": []
    },
    {
      "cell_type": "code",
      "source": [
        "df.head(3)"
      ],
      "metadata": {
        "colab": {
          "base_uri": "https://localhost:8080/",
          "height": 144
        },
        "id": "yVk9YdtLm5ZC",
        "outputId": "f518f3f4-8acc-4210-fcf0-6866b280b85a"
      },
      "id": "yVk9YdtLm5ZC",
      "execution_count": null,
      "outputs": [
        {
          "output_type": "execute_result",
          "data": {
            "text/html": [
              "<div>\n",
              "<style scoped>\n",
              "    .dataframe tbody tr th:only-of-type {\n",
              "        vertical-align: middle;\n",
              "    }\n",
              "\n",
              "    .dataframe tbody tr th {\n",
              "        vertical-align: top;\n",
              "    }\n",
              "\n",
              "    .dataframe thead th {\n",
              "        text-align: right;\n",
              "    }\n",
              "</style>\n",
              "<table border=\"1\" class=\"dataframe\">\n",
              "  <thead>\n",
              "    <tr style=\"text-align: right;\">\n",
              "      <th></th>\n",
              "      <th>Gender</th>\n",
              "      <th>Married</th>\n",
              "      <th>Dependents</th>\n",
              "      <th>Education</th>\n",
              "      <th>Self_Employed</th>\n",
              "      <th>ApplicantIncome</th>\n",
              "      <th>LoanAmount</th>\n",
              "      <th>Loan_Status</th>\n",
              "    </tr>\n",
              "  </thead>\n",
              "  <tbody>\n",
              "    <tr>\n",
              "      <th>0</th>\n",
              "      <td>1</td>\n",
              "      <td>0</td>\n",
              "      <td>0</td>\n",
              "      <td>0</td>\n",
              "      <td>0</td>\n",
              "      <td>5849</td>\n",
              "      <td>146.412162</td>\n",
              "      <td>1</td>\n",
              "    </tr>\n",
              "    <tr>\n",
              "      <th>1</th>\n",
              "      <td>1</td>\n",
              "      <td>1</td>\n",
              "      <td>1</td>\n",
              "      <td>0</td>\n",
              "      <td>0</td>\n",
              "      <td>4583</td>\n",
              "      <td>128.000000</td>\n",
              "      <td>0</td>\n",
              "    </tr>\n",
              "    <tr>\n",
              "      <th>2</th>\n",
              "      <td>1</td>\n",
              "      <td>1</td>\n",
              "      <td>0</td>\n",
              "      <td>0</td>\n",
              "      <td>1</td>\n",
              "      <td>3000</td>\n",
              "      <td>66.000000</td>\n",
              "      <td>1</td>\n",
              "    </tr>\n",
              "  </tbody>\n",
              "</table>\n",
              "</div>"
            ],
            "text/plain": [
              "   Gender  Married  Dependents  ...  ApplicantIncome  LoanAmount  Loan_Status\n",
              "0       1        0           0  ...             5849  146.412162            1\n",
              "1       1        1           1  ...             4583  128.000000            0\n",
              "2       1        1           0  ...             3000   66.000000            1\n",
              "\n",
              "[3 rows x 8 columns]"
            ]
          },
          "metadata": {},
          "execution_count": 319
        }
      ]
    },
    {
      "cell_type": "code",
      "source": [
        "X, y = SMOTE().fit_resample(X, y)"
      ],
      "metadata": {
        "id": "ERqRSPEgNG3s"
      },
      "id": "ERqRSPEgNG3s",
      "execution_count": null,
      "outputs": []
    },
    {
      "cell_type": "code",
      "source": [
        "sns.set_theme(style=\"darkgrid\")\n",
        "sns.countplot(y=y, data=df, palette=\"coolwarm\")\n",
        "plt.ylabel('Loan Status')\n",
        "plt.xlabel('Total')\n",
        "plt.show()"
      ],
      "metadata": {
        "colab": {
          "base_uri": "https://localhost:8080/",
          "height": 285
        },
        "id": "Su2JdMLJNkDt",
        "outputId": "76fd46be-8c10-4652-8908-df127bddc325"
      },
      "id": "Su2JdMLJNkDt",
      "execution_count": null,
      "outputs": [
        {
          "output_type": "display_data",
          "data": {
            "image/png": "[encoded data removed]",
            "text/plain": [
              "<Figure size 432x288 with 1 Axes>"
            ]
          },
          "metadata": {}
        }
      ]
    },
    {
      "cell_type": "markdown",
      "source": [
        "#### 5.7 Data Normalization\n",
        "Nesta seção, a normalização de dados será realizada para normalizar o intervalo de variáveis independentes ou recursos de dados"
      ],
      "metadata": {
        "id": "bWTU-sDyNweM"
      },
      "id": "bWTU-sDyNweM"
    },
    {
      "cell_type": "code",
      "source": [
        "X = MinMaxScaler().fit_transform(X)"
      ],
      "metadata": {
        "id": "zBrYvHZsN5Gk"
      },
      "id": "zBrYvHZsN5Gk",
      "execution_count": null,
      "outputs": []
    },
    {
      "cell_type": "markdown",
      "source": [
        "#### 5.8 Dividindo o conjunto de dados\n",
        "\n",
        "O conjunto de dados será dividido em 80% de trem e 20% de teste."
      ],
      "metadata": {
        "id": "F5uQhnELOG5M"
      },
      "id": "F5uQhnELOG5M"
    },
    {
      "cell_type": "code",
      "source": [
        "X_train, X_test, y_train, y_test = train_test_split(X, y, test_size = 0.2, random_state = 0)"
      ],
      "metadata": {
        "id": "JHvumvVyOBoU"
      },
      "id": "JHvumvVyOBoU",
      "execution_count": null,
      "outputs": []
    },
    {
      "cell_type": "markdown",
      "source": [
        "# Modelo\n",
        "\n"
      ],
      "metadata": {
        "id": "uf_IINRZOKqz"
      },
      "id": "uf_IINRZOKqz"
    },
    {
      "cell_type": "markdown",
      "source": [
        "#### 6.1 Logistic Regression"
      ],
      "metadata": {
        "id": "Rpq6vXvOOb47"
      },
      "id": "Rpq6vXvOOb47"
    },
    {
      "cell_type": "code",
      "source": [
        "LRclassifier = LogisticRegression(solver='saga', max_iter=500, random_state=1)\n",
        "LRclassifier.fit(X_train, y_train)\n",
        "\n",
        "y_pred = LRclassifier.predict(X_test)\n",
        "\n",
        "print(classification_report(y_test, y_pred))\n",
        "print(confusion_matrix(y_test, y_pred))\n",
        "\n",
        "from sklearn.metrics import accuracy_score\n",
        "LRAcc = accuracy_score(y_pred,y_test)\n",
        "print('LR accuracy: {:.2f}%'.format(LRAcc*100))"
      ],
      "metadata": {
        "colab": {
          "base_uri": "https://localhost:8080/"
        },
        "id": "rx22c8EFOQH1",
        "outputId": "77c7f990-dc9e-45a7-923b-c80ec5bf1106"
      },
      "id": "rx22c8EFOQH1",
      "execution_count": null,
      "outputs": [
        {
          "output_type": "stream",
          "name": "stdout",
          "text": [
            "              precision    recall  f1-score   support\n",
            "\n",
            "           0       0.62      0.59      0.61        86\n",
            "           1       0.60      0.63      0.61        83\n",
            "\n",
            "    accuracy                           0.61       169\n",
            "   macro avg       0.61      0.61      0.61       169\n",
            "weighted avg       0.61      0.61      0.61       169\n",
            "\n",
            "[[51 35]\n",
            " [31 52]]\n",
            "LR accuracy: 60.95%\n"
          ]
        }
      ]
    },
    {
      "cell_type": "markdown",
      "source": [
        "#### 6.2 K-Nearest Neighbour (KNN)"
      ],
      "metadata": {
        "id": "PwCDmNPsOWiM"
      },
      "id": "PwCDmNPsOWiM"
    },
    {
      "cell_type": "code",
      "source": [
        "scoreListknn = []\n",
        "for i in range(1,21):\n",
        "    KNclassifier = KNeighborsClassifier(n_neighbors = i)\n",
        "    KNclassifier.fit(X_train, y_train)\n",
        "    scoreListknn.append(KNclassifier.score(X_test, y_test))\n",
        "    \n",
        "plt.plot(range(1,21), scoreListknn)\n",
        "plt.xticks(np.arange(1,21,1))\n",
        "plt.xlabel(\"K value\")\n",
        "plt.ylabel(\"Score\")\n",
        "plt.show()\n",
        "KNAcc = max(scoreListknn)\n",
        "print(\"KNN best accuracy: {:.2f}%\".format(KNAcc*100))"
      ],
      "metadata": {
        "colab": {
          "base_uri": "https://localhost:8080/"
        },
        "id": "AvA5W_0kOV5c",
        "outputId": "f56a0a4c-58fb-4d8d-c615-a300a51f76d1"
      },
      "id": "AvA5W_0kOV5c",
      "execution_count": null,
      "outputs": [
        {
          "output_type": "display_data",
          "data": {
            "image/png": "[encoded data removed]",
            "text/plain": [
              "<Figure size 432x288 with 1 Axes>"
            ]
          },
          "metadata": {}
        },
        {
          "output_type": "stream",
          "name": "stdout",
          "text": [
            "KNN best accuracy: 63.31%\n"
          ]
        }
      ]
    },
    {
      "cell_type": "markdown",
      "source": [
        "#### 6.3 Support Vector Machine (SVM)"
      ],
      "metadata": {
        "id": "aLUFXVZZOo4k"
      },
      "id": "aLUFXVZZOo4k"
    },
    {
      "cell_type": "code",
      "source": [
        "SVCclassifier = SVC(kernel='rbf', max_iter=500)\n",
        "SVCclassifier.fit(X_train, y_train)\n",
        "\n",
        "y_pred = SVCclassifier.predict(X_test)\n",
        "\n",
        "print(classification_report(y_test, y_pred))\n",
        "print(confusion_matrix(y_test, y_pred))\n",
        "\n",
        "from sklearn.metrics import accuracy_score\n",
        "SVCAcc = accuracy_score(y_pred,y_test)\n",
        "print('SVC accuracy: {:.2f}%'.format(SVCAcc*100))"
      ],
      "metadata": {
        "colab": {
          "base_uri": "https://localhost:8080/"
        },
        "id": "E4kVkaMEOqYM",
        "outputId": "b06a615c-94de-4234-a337-0fbaf3771a7a"
      },
      "id": "E4kVkaMEOqYM",
      "execution_count": null,
      "outputs": [
        {
          "output_type": "stream",
          "name": "stdout",
          "text": [
            "              precision    recall  f1-score   support\n",
            "\n",
            "           0       0.60      0.55      0.57        86\n",
            "           1       0.57      0.63      0.60        83\n",
            "\n",
            "    accuracy                           0.59       169\n",
            "   macro avg       0.59      0.59      0.59       169\n",
            "weighted avg       0.59      0.59      0.59       169\n",
            "\n",
            "[[47 39]\n",
            " [31 52]]\n",
            "SVC accuracy: 58.58%\n"
          ]
        },
        {
          "output_type": "stream",
          "name": "stderr",
          "text": [
            "/usr/local/lib/python3.7/dist-packages/sklearn/svm/_base.py:289: ConvergenceWarning: Solver terminated early (max_iter=500).  Consider pre-processing your data with StandardScaler or MinMaxScaler.\n",
            "  ConvergenceWarning,\n"
          ]
        }
      ]
    },
    {
      "cell_type": "markdown",
      "source": [
        "#### 6.4 Naive Bayes"
      ],
      "metadata": {
        "id": "SDznQ-CsOw7l"
      },
      "id": "SDznQ-CsOw7l"
    },
    {
      "cell_type": "code",
      "source": [
        "NBclassifier1 = CategoricalNB()\n",
        "NBclassifier1.fit(X_train, y_train)\n",
        "\n",
        "y_pred = NBclassifier1.predict(X_test)\n",
        "\n",
        "print(classification_report(y_test, y_pred))\n",
        "print(confusion_matrix(y_test, y_pred))\n",
        "\n",
        "from sklearn.metrics import accuracy_score\n",
        "NBAcc1 = accuracy_score(y_pred,y_test)\n",
        "print('Categorical Naive Bayes accuracy: {:.2f}%'.format(NBAcc1*100))"
      ],
      "metadata": {
        "colab": {
          "base_uri": "https://localhost:8080/"
        },
        "id": "PaESAw5ROwas",
        "outputId": "f6a40253-b2fd-41b0-bf27-26957d42b43f"
      },
      "id": "PaESAw5ROwas",
      "execution_count": null,
      "outputs": [
        {
          "output_type": "stream",
          "name": "stdout",
          "text": [
            "              precision    recall  f1-score   support\n",
            "\n",
            "           0       0.63      0.59      0.61        86\n",
            "           1       0.60      0.64      0.62        83\n",
            "\n",
            "    accuracy                           0.62       169\n",
            "   macro avg       0.62      0.62      0.62       169\n",
            "weighted avg       0.62      0.62      0.62       169\n",
            "\n",
            "[[51 35]\n",
            " [30 53]]\n",
            "Categorical Naive Bayes accuracy: 61.54%\n"
          ]
        }
      ]
    },
    {
      "cell_type": "markdown",
      "source": [
        "#### 6.4.2 Gaussian NB"
      ],
      "metadata": {
        "id": "Bee6EGdHO38l"
      },
      "id": "Bee6EGdHO38l"
    },
    {
      "cell_type": "code",
      "source": [
        "NBclassifier2 = GaussianNB()\n",
        "NBclassifier2.fit(X_train, y_train)\n",
        "\n",
        "y_pred = NBclassifier2.predict(X_test)\n",
        "\n",
        "print(classification_report(y_test, y_pred))\n",
        "print(confusion_matrix(y_test, y_pred))\n",
        "\n",
        "from sklearn.metrics import accuracy_score\n",
        "NBAcc2 = accuracy_score(y_pred,y_test)\n",
        "print('Gaussian Naive Bayes accuracy: {:.2f}%'.format(NBAcc2*100))"
      ],
      "metadata": {
        "colab": {
          "base_uri": "https://localhost:8080/"
        },
        "id": "VNp76AvIO5Us",
        "outputId": "f368f4fa-988a-4e04-ac27-5b570c0c1a0d"
      },
      "id": "VNp76AvIO5Us",
      "execution_count": null,
      "outputs": [
        {
          "output_type": "stream",
          "name": "stdout",
          "text": [
            "              precision    recall  f1-score   support\n",
            "\n",
            "           0       0.62      0.58      0.60        86\n",
            "           1       0.60      0.64      0.62        83\n",
            "\n",
            "    accuracy                           0.61       169\n",
            "   macro avg       0.61      0.61      0.61       169\n",
            "weighted avg       0.61      0.61      0.61       169\n",
            "\n",
            "[[50 36]\n",
            " [30 53]]\n",
            "Gaussian Naive Bayes accuracy: 60.95%\n"
          ]
        }
      ]
    },
    {
      "cell_type": "markdown",
      "source": [
        "#### 6.5 Decision Tree"
      ],
      "metadata": {
        "id": "P2iXwspHO-FU"
      },
      "id": "P2iXwspHO-FU"
    },
    {
      "cell_type": "code",
      "source": [
        "scoreListDT = []\n",
        "for i in range(2,21):\n",
        "    DTclassifier = DecisionTreeClassifier(max_leaf_nodes=i)\n",
        "    DTclassifier.fit(X_train, y_train)\n",
        "    scoreListDT.append(DTclassifier.score(X_test, y_test))\n",
        "    \n",
        "plt.plot(range(2,21), scoreListDT)\n",
        "plt.xticks(np.arange(2,21,1))\n",
        "plt.xlabel(\"Leaf\")\n",
        "plt.ylabel(\"Score\")\n",
        "plt.show()\n",
        "DTAcc = max(scoreListDT)\n",
        "print(\"Decision Tree Accuracy: {:.2f}%\".format(DTAcc*100))"
      ],
      "metadata": {
        "colab": {
          "base_uri": "https://localhost:8080/",
          "height": 304
        },
        "id": "s7RKFVbPPAHF",
        "outputId": "0badc656-76e8-4ba1-8710-eb135428d690"
      },
      "id": "s7RKFVbPPAHF",
      "execution_count": null,
      "outputs": [
        {
          "output_type": "display_data",
          "data": {
            "image/png": "[encoded data removed]",
            "text/plain": [
              "<Figure size 432x288 with 1 Axes>"
            ]
          },
          "metadata": {}
        },
        {
          "output_type": "stream",
          "name": "stdout",
          "text": [
            "Decision Tree Accuracy: 62.72%\n"
          ]
        }
      ]
    },
    {
      "cell_type": "markdown",
      "source": [
        "#### 6.6 Random Forest"
      ],
      "metadata": {
        "id": "uMpOPOEyPFhz"
      },
      "id": "uMpOPOEyPFhz"
    },
    {
      "cell_type": "code",
      "source": [
        "scoreListRF = []\n",
        "for i in range(2,25):\n",
        "    RFclassifier = RandomForestClassifier(n_estimators = 1000, random_state = 1, max_leaf_nodes=i)\n",
        "    RFclassifier.fit(X_train, y_train)\n",
        "    scoreListRF.append(RFclassifier.score(X_test, y_test))\n",
        "    \n",
        "plt.plot(range(2,25), scoreListRF)\n",
        "plt.xticks(np.arange(2,25,1))\n",
        "plt.xlabel(\"RF Value\")\n",
        "plt.ylabel(\"Score\")\n",
        "plt.show()\n",
        "RFAcc = max(scoreListRF)\n",
        "print(\"Random Forest Accuracy:  {:.2f}%\".format(RFAcc*100))"
      ],
      "metadata": {
        "colab": {
          "base_uri": "https://localhost:8080/",
          "height": 304
        },
        "id": "uJMFZ4qMPHN8",
        "outputId": "c2e8f771-7e15-4ab1-b238-a0a7df14d649"
      },
      "id": "uJMFZ4qMPHN8",
      "execution_count": null,
      "outputs": [
        {
          "output_type": "display_data",
          "data": {
            "image/png": "[encoded data removed]",
            "text/plain": [
              "<Figure size 432x288 with 1 Axes>"
            ]
          },
          "metadata": {}
        },
        {
          "output_type": "stream",
          "name": "stdout",
          "text": [
            "Random Forest Accuracy:  65.09%\n"
          ]
        }
      ]
    },
    {
      "cell_type": "markdown",
      "source": [
        "#### 6.7 Gradient Boosting"
      ],
      "metadata": {
        "id": "9Q9Cz1qJPLuj"
      },
      "id": "9Q9Cz1qJPLuj"
    },
    {
      "cell_type": "code",
      "source": [
        "paramsGB={'n_estimators':[100,200,300,400,500],\n",
        "      'max_depth':[1,2,3,4,5],\n",
        "      'subsample':[0.5,1],\n",
        "      'max_leaf_nodes':[2,5,10,20,30,40,50]}"
      ],
      "metadata": {
        "id": "3wMKcX-pPM97"
      },
      "id": "3wMKcX-pPM97",
      "execution_count": null,
      "outputs": []
    },
    {
      "cell_type": "code",
      "source": [
        "GB = RandomizedSearchCV(GradientBoostingClassifier(), paramsGB, cv=20)\n",
        "GB.fit(X_train, y_train)"
      ],
      "metadata": {
        "colab": {
          "base_uri": "https://localhost:8080/"
        },
        "id": "wUpNmjSmPRCk",
        "outputId": "d2a96da3-da3a-441d-b7bd-e6db8eccd003"
      },
      "id": "wUpNmjSmPRCk",
      "execution_count": null,
      "outputs": [
        {
          "output_type": "execute_result",
          "data": {
            "text/plain": [
              "RandomizedSearchCV(cv=20, estimator=GradientBoostingClassifier(),\n",
              "                   param_distributions={'max_depth': [1, 2, 3, 4, 5],\n",
              "                                        'max_leaf_nodes': [2, 5, 10, 20, 30, 40,\n",
              "                                                           50],\n",
              "                                        'n_estimators': [100, 200, 300, 400,\n",
              "                                                         500],\n",
              "                                        'subsample': [0.5, 1]})"
            ]
          },
          "metadata": {},
          "execution_count": 332
        }
      ]
    },
    {
      "cell_type": "code",
      "source": [
        "print(GB.best_estimator_)\n",
        "print(GB.best_score_)\n",
        "print(GB.best_params_)\n",
        "print(GB.best_index_)"
      ],
      "metadata": {
        "colab": {
          "base_uri": "https://localhost:8080/"
        },
        "id": "S7lSxO5nPTFT",
        "outputId": "1c289428-0396-41d3-9bac-0d7f5206281f"
      },
      "id": "S7lSxO5nPTFT",
      "execution_count": null,
      "outputs": [
        {
          "output_type": "stream",
          "name": "stdout",
          "text": [
            "GradientBoostingClassifier(max_depth=5, max_leaf_nodes=50, n_estimators=300,\n",
            "                           subsample=0.5)\n",
            "0.6665775401069518\n",
            "{'subsample': 0.5, 'n_estimators': 300, 'max_leaf_nodes': 50, 'max_depth': 5}\n",
            "2\n"
          ]
        }
      ]
    },
    {
      "cell_type": "code",
      "source": [
        "GBclassifier = GradientBoostingClassifier(subsample=1, n_estimators=400, max_depth=5, max_leaf_nodes=20)\n",
        "GBclassifier.fit(X_train, y_train)\n",
        "\n",
        "y_pred = GBclassifier.predict(X_test)\n",
        "\n",
        "print(classification_report(y_test, y_pred))\n",
        "print(confusion_matrix(y_test, y_pred))\n",
        "\n",
        "from sklearn.metrics import accuracy_score\n",
        "GBAcc = accuracy_score(y_pred,y_test)\n",
        "print('Gradient Boosting accuracy: {:.2f}%'.format(GBAcc*100))"
      ],
      "metadata": {
        "colab": {
          "base_uri": "https://localhost:8080/"
        },
        "id": "mwE35YjkPXPU",
        "outputId": "a49febba-4ea3-4a59-f418-d913a788a296"
      },
      "id": "mwE35YjkPXPU",
      "execution_count": null,
      "outputs": [
        {
          "output_type": "stream",
          "name": "stdout",
          "text": [
            "              precision    recall  f1-score   support\n",
            "\n",
            "           0       0.68      0.71      0.69        86\n",
            "           1       0.68      0.65      0.67        83\n",
            "\n",
            "    accuracy                           0.68       169\n",
            "   macro avg       0.68      0.68      0.68       169\n",
            "weighted avg       0.68      0.68      0.68       169\n",
            "\n",
            "[[61 25]\n",
            " [29 54]]\n",
            "Gradient Boosting accuracy: 68.05%\n"
          ]
        }
      ]
    },
    {
      "cell_type": "markdown",
      "source": [
        "# 7. Comparação de modelo"
      ],
      "metadata": {
        "id": "y0nZtHagPaEW"
      },
      "id": "y0nZtHagPaEW"
    },
    {
      "cell_type": "code",
      "source": [
        "compare = pd.DataFrame({'Model': ['Logistic Regression', 'K Neighbors', \n",
        "                                  'SVM', 'Categorical NB', \n",
        "                                  'Gaussian NB', 'Decision Tree', \n",
        "                                  'Random Forest', 'Gradient Boost'], \n",
        "                        'Accuracy': [LRAcc*100, KNAcc*100, SVCAcc*100, \n",
        "                                     NBAcc1*100, NBAcc2*100, DTAcc*100, \n",
        "                                     RFAcc*100, GBAcc*100]})\n",
        "compare.sort_values(by='Accuracy', ascending=False)"
      ],
      "metadata": {
        "colab": {
          "base_uri": "https://localhost:8080/",
          "height": 300
        },
        "id": "s9vMaI-uPeTc",
        "outputId": "937d6b90-ba26-40da-88f5-f03c1a02a305"
      },
      "id": "s9vMaI-uPeTc",
      "execution_count": null,
      "outputs": [
        {
          "output_type": "execute_result",
          "data": {
            "text/html": [
              "<div>\n",
              "<style scoped>\n",
              "    .dataframe tbody tr th:only-of-type {\n",
              "        vertical-align: middle;\n",
              "    }\n",
              "\n",
              "    .dataframe tbody tr th {\n",
              "        vertical-align: top;\n",
              "    }\n",
              "\n",
              "    .dataframe thead th {\n",
              "        text-align: right;\n",
              "    }\n",
              "</style>\n",
              "<table border=\"1\" class=\"dataframe\">\n",
              "  <thead>\n",
              "    <tr style=\"text-align: right;\">\n",
              "      <th></th>\n",
              "      <th>Model</th>\n",
              "      <th>Accuracy</th>\n",
              "    </tr>\n",
              "  </thead>\n",
              "  <tbody>\n",
              "    <tr>\n",
              "      <th>7</th>\n",
              "      <td>Gradient Boost</td>\n",
              "      <td>68.047337</td>\n",
              "    </tr>\n",
              "    <tr>\n",
              "      <th>6</th>\n",
              "      <td>Random Forest</td>\n",
              "      <td>65.088757</td>\n",
              "    </tr>\n",
              "    <tr>\n",
              "      <th>1</th>\n",
              "      <td>K Neighbors</td>\n",
              "      <td>63.313609</td>\n",
              "    </tr>\n",
              "    <tr>\n",
              "      <th>5</th>\n",
              "      <td>Decision Tree</td>\n",
              "      <td>62.721893</td>\n",
              "    </tr>\n",
              "    <tr>\n",
              "      <th>3</th>\n",
              "      <td>Categorical NB</td>\n",
              "      <td>61.538462</td>\n",
              "    </tr>\n",
              "    <tr>\n",
              "      <th>0</th>\n",
              "      <td>Logistic Regression</td>\n",
              "      <td>60.946746</td>\n",
              "    </tr>\n",
              "    <tr>\n",
              "      <th>4</th>\n",
              "      <td>Gaussian NB</td>\n",
              "      <td>60.946746</td>\n",
              "    </tr>\n",
              "    <tr>\n",
              "      <th>2</th>\n",
              "      <td>SVM</td>\n",
              "      <td>58.579882</td>\n",
              "    </tr>\n",
              "  </tbody>\n",
              "</table>\n",
              "</div>"
            ],
            "text/plain": [
              "                 Model   Accuracy\n",
              "7       Gradient Boost  68.047337\n",
              "6        Random Forest  65.088757\n",
              "1          K Neighbors  63.313609\n",
              "5        Decision Tree  62.721893\n",
              "3       Categorical NB  61.538462\n",
              "0  Logistic Regression  60.946746\n",
              "4          Gaussian NB  60.946746\n",
              "2                  SVM  58.579882"
            ]
          },
          "metadata": {},
          "execution_count": 335
        }
      ]
    },
    {
      "cell_type": "markdown",
      "source": [
        "* Em geral, pode-se ver que todo o modelo pode atingir até 80% de precisão, exceto Gradient Boost.\n",
        "* Como pode ser visto, SVM e Random Forest podem atingir até 86,67% de precisão.\n"
      ],
      "metadata": {
        "id": "ObPS-Y_cPomE"
      },
      "id": "ObPS-Y_cPomE"
    },
    {
      "cell_type": "markdown",
      "source": [
        "#### Teste de Classificação"
      ],
      "metadata": {
        "id": "9q4AFPMxTsD4"
      },
      "id": "9q4AFPMxTsD4"
    },
    {
      "cell_type": "code",
      "source": [
        "teste = np.array([[1,1,3,0,0,9504,275.0]])\n",
        "DTclassifier.predict(teste)"
      ],
      "metadata": {
        "colab": {
          "base_uri": "https://localhost:8080/"
        },
        "id": "aOFpo0O7Tqeb",
        "outputId": "74c79daa-2403-4fd3-f851-73055d8710e4"
      },
      "id": "aOFpo0O7Tqeb",
      "execution_count": null,
      "outputs": [
        {
          "output_type": "execute_result",
          "data": {
            "text/plain": [
              "array([1])"
            ]
          },
          "metadata": {},
          "execution_count": 336
        }
      ]
    },
    {
      "cell_type": "markdown",
      "source": [
        "# 8. Métricas de avaliação do melhor modelo"
      ],
      "metadata": {
        "id": "HM-vJc-s1veo"
      },
      "id": "HM-vJc-s1veo"
    },
    {
      "cell_type": "code",
      "source": [
        "clf_rf = RFclassifier"
      ],
      "metadata": {
        "id": "oQVj2fAh2Ara"
      },
      "id": "oQVj2fAh2Ara",
      "execution_count": null,
      "outputs": []
    },
    {
      "cell_type": "code",
      "source": [
        "print(pd.crosstab(y_test,clf_rf.predict(X_test), rownames = ['Real'], colnames=['Predito'], margins=True))"
      ],
      "metadata": {
        "colab": {
          "base_uri": "https://localhost:8080/"
        },
        "id": "uflWSJws11Ss",
        "outputId": "70a4f7ae-3931-4df4-987e-1d03165077ac"
      },
      "id": "uflWSJws11Ss",
      "execution_count": null,
      "outputs": [
        {
          "output_type": "stream",
          "name": "stdout",
          "text": [
            "Predito   0   1  All\n",
            "Real                \n",
            "0        54  32   86\n",
            "1        28  55   83\n",
            "All      82  87  169\n"
          ]
        }
      ]
    },
    {
      "cell_type": "code",
      "source": [
        "from sklearn.model_selection import train_test_split\n",
        "from sklearn import metrics"
      ],
      "metadata": {
        "id": "qdkkum7P2xnh"
      },
      "id": "qdkkum7P2xnh",
      "execution_count": null,
      "outputs": []
    },
    {
      "cell_type": "code",
      "source": [
        "print(metrics.classification_report(y_test, clf_rf.predict(X_test)))"
      ],
      "metadata": {
        "colab": {
          "base_uri": "https://localhost:8080/"
        },
        "id": "hi6D6uqh2hjJ",
        "outputId": "976303cd-8338-4954-d4b7-fbda512a9397"
      },
      "id": "hi6D6uqh2hjJ",
      "execution_count": null,
      "outputs": [
        {
          "output_type": "stream",
          "name": "stdout",
          "text": [
            "              precision    recall  f1-score   support\n",
            "\n",
            "           0       0.66      0.63      0.64        86\n",
            "           1       0.63      0.66      0.65        83\n",
            "\n",
            "    accuracy                           0.64       169\n",
            "   macro avg       0.65      0.65      0.64       169\n",
            "weighted avg       0.65      0.64      0.64       169\n",
            "\n"
          ]
        }
      ]
    },
    {
      "cell_type": "markdown",
      "source": [
        "# Persistindo o melhor modelo em disco"
      ],
      "metadata": {
        "id": "1JNjrgQOS3DC"
      },
      "id": "1JNjrgQOS3DC"
    },
    {
      "cell_type": "code",
      "source": [
        "RFclassifier.fit(X_train,y_train)"
      ],
      "metadata": {
        "colab": {
          "base_uri": "https://localhost:8080/"
        },
        "id": "1TuqRrZd1PEw",
        "outputId": "437ce48a-a163-4b89-a937-1895e71cc421"
      },
      "id": "1TuqRrZd1PEw",
      "execution_count": null,
      "outputs": [
        {
          "output_type": "execute_result",
          "data": {
            "text/plain": [
              "RandomForestClassifier(max_leaf_nodes=24, n_estimators=1000, random_state=1)"
            ]
          },
          "metadata": {},
          "execution_count": 337
        }
      ]
    },
    {
      "cell_type": "code",
      "source": [
        "import joblib"
      ],
      "metadata": {
        "id": "w5FGU3hW5vKA"
      },
      "id": "w5FGU3hW5vKA",
      "execution_count": null,
      "outputs": []
    },
    {
      "cell_type": "code",
      "source": [
        "#from sklearn.externals import joblib"
      ],
      "metadata": {
        "id": "F-U_LQibP54V"
      },
      "id": "F-U_LQibP54V",
      "execution_count": null,
      "outputs": []
    },
    {
      "cell_type": "markdown",
      "source": [
        "#### Persistindo o melhor modelo em disco"
      ],
      "metadata": {
        "id": "q_zUQNIS592t"
      },
      "id": "q_zUQNIS592t"
    },
    {
      "cell_type": "code",
      "source": [
        "joblib.dump(clf_rf, 'model.pkl')\n"
      ],
      "metadata": {
        "colab": {
          "base_uri": "https://localhost:8080/"
        },
        "id": "kKjkp3TB4lSn",
        "outputId": "4ecf4ff8-4ff4-462a-cb80-d51c3e03afc2"
      },
      "id": "kKjkp3TB4lSn",
      "execution_count": null,
      "outputs": [
        {
          "output_type": "execute_result",
          "data": {
            "text/plain": [
              "['model.pkl']"
            ]
          },
          "metadata": {},
          "execution_count": 354
        }
      ]
    },
    {
      "cell_type": "code",
      "source": [
        "#Listando os arquivos em disco\n",
        "!ls"
      ],
      "metadata": {
        "colab": {
          "base_uri": "https://localhost:8080/"
        },
        "id": "e2Ly-DTQSryL",
        "outputId": "7b7d708b-12ee-41b2-cee1-730ccff12ee4"
      },
      "id": "e2Ly-DTQSryL",
      "execution_count": null,
      "outputs": [
        {
          "output_type": "stream",
          "name": "stdout",
          "text": [
            "model.pkl  sample_data\ttrain_loan.csv\n"
          ]
        }
      ]
    },
    {
      "cell_type": "code",
      "source": [
        "#Carregando o modelo a partir do disco para a memória\n",
        "model = joblib.load('model.pkl')"
      ],
      "metadata": {
        "id": "T92_TcDpTMSq"
      },
      "id": "T92_TcDpTMSq",
      "execution_count": null,
      "outputs": []
    },
    {
      "cell_type": "code",
      "source": [
        "# Verificando atributos do modelo\n",
        "print(\"Atributos do Modelo:\\n\\nClasses:{}\\n\\nEstimators:{}\\n\\nParametros:{}\".format(model.classes_,model.n_estimators,model.base_estimator))"
      ],
      "metadata": {
        "colab": {
          "base_uri": "https://localhost:8080/"
        },
        "id": "o-9RX3ByTWEZ",
        "outputId": "f63960a6-7e27-421b-a4f8-844d37742695"
      },
      "id": "o-9RX3ByTWEZ",
      "execution_count": null,
      "outputs": [
        {
          "output_type": "stream",
          "name": "stdout",
          "text": [
            "Atributos do Modelo:\n",
            "\n",
            "Classes:[0 1]\n",
            "\n",
            "Estimators:1000\n",
            "\n",
            "Parametros:DecisionTreeClassifier()\n"
          ]
        }
      ]
    },
    {
      "cell_type": "markdown",
      "source": [
        "Teste de Classificação"
      ],
      "metadata": {
        "id": "c40hRx0u73DA"
      },
      "id": "c40hRx0u73DA"
    },
    {
      "cell_type": "code",
      "source": [
        "teste = np.array([[1,1,3,0,0,9504,275.0]])\n",
        "model.predict(teste)"
      ],
      "metadata": {
        "colab": {
          "base_uri": "https://localhost:8080/"
        },
        "id": "5qH5SYS_7vjD",
        "outputId": "fc57fdf7-d795-4c60-9fb5-004e666a0028"
      },
      "id": "5qH5SYS_7vjD",
      "execution_count": null,
      "outputs": [
        {
          "output_type": "execute_result",
          "data": {
            "text/plain": [
              "array([1])"
            ]
          },
          "metadata": {},
          "execution_count": 361
        }
      ]
    },
    {
      "cell_type": "markdown",
      "source": [
        "Probabilidades de Classes"
      ],
      "metadata": {
        "id": "ty5JOCm_76yn"
      },
      "id": "ty5JOCm_76yn"
    },
    {
      "cell_type": "code",
      "source": [
        "model.predict_proba(teste)"
      ],
      "metadata": {
        "colab": {
          "base_uri": "https://localhost:8080/"
        },
        "id": "bacP8tMf77mH",
        "outputId": "a7ad15c8-cc26-4c28-8dcd-5e14de7178d7"
      },
      "id": "bacP8tMf77mH",
      "execution_count": null,
      "outputs": [
        {
          "output_type": "execute_result",
          "data": {
            "text/plain": [
              "array([[0.42907763, 0.57092237]])"
            ]
          },
          "metadata": {},
          "execution_count": 362
        }
      ]
    },
    {
      "cell_type": "markdown",
      "source": [
        "agora iremos pegar esse modelo e construir uma Web API para disponibilizar esse modelo para outras aplicações."
      ],
      "metadata": {
        "id": "cGxSY2sA8FqH"
      },
      "id": "cGxSY2sA8FqH"
    },
    {
      "cell_type": "markdown",
      "source": [
        "# Código da Web API"
      ],
      "metadata": {
        "id": "eCW0_cH98WXG"
      },
      "id": "eCW0_cH98WXG"
    },
    {
      "cell_type": "code",
      "source": [
        ""
      ],
      "metadata": {
        "id": "dirnCAO_8YfR"
      },
      "id": "dirnCAO_8YfR",
      "execution_count": null,
      "outputs": []
    }
  ],
  "metadata": {
    "kernelspec": {
      "display_name": "Python 3 (ipykernel)",
      "language": "python",
      "name": "python3"
    },
    "language_info": {
      "codemirror_mode": {
        "name": "ipython",
        "version": 3
      },
      "file_extension": ".py",
      "mimetype": "text/x-python",
      "name": "python",
      "nbconvert_exporter": "python",
      "pygments_lexer": "ipython3",
      "version": "3.10.0"
    },
    "colab": {
      "name": "Trab_Final_Previsão_emprestimo.ipynb",
      "provenance": []
    }
  },
  "nbformat": 4,
  "nbformat_minor": 5
}